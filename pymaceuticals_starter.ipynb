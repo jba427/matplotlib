{
 "cells": [
  {
   "cell_type": "markdown",
   "metadata": {},
   "source": [
    "## Observations and Insights "
   ]
  },
  {
   "cell_type": "markdown",
   "metadata": {},
   "source": [
    "Observations:\n",
    "1.  Larger mice appear to have correspondingly larger tumors \n",
    "    (correlation between weight and tumor weight is .84)\n",
    "2.  Capomulin outperformed all other regimens except Ramicane, which exhibited\n",
    "    better average tumor size"
   ]
  },
  {
   "cell_type": "code",
   "execution_count": 274,
   "metadata": {},
   "outputs": [
    {
     "data": {
      "text/html": [
       "<div>\n",
       "<style scoped>\n",
       "    .dataframe tbody tr th:only-of-type {\n",
       "        vertical-align: middle;\n",
       "    }\n",
       "\n",
       "    .dataframe tbody tr th {\n",
       "        vertical-align: top;\n",
       "    }\n",
       "\n",
       "    .dataframe thead th {\n",
       "        text-align: right;\n",
       "    }\n",
       "</style>\n",
       "<table border=\"1\" class=\"dataframe\">\n",
       "  <thead>\n",
       "    <tr style=\"text-align: right;\">\n",
       "      <th></th>\n",
       "      <th>Mouse ID</th>\n",
       "      <th>Drug Regimen</th>\n",
       "      <th>Sex</th>\n",
       "      <th>Age_months</th>\n",
       "      <th>Weight (g)</th>\n",
       "      <th>Timepoint</th>\n",
       "      <th>Tumor Volume (mm3)</th>\n",
       "      <th>Metastatic Sites</th>\n",
       "    </tr>\n",
       "  </thead>\n",
       "  <tbody>\n",
       "    <tr>\n",
       "      <td>0</td>\n",
       "      <td>k403</td>\n",
       "      <td>Ramicane</td>\n",
       "      <td>Male</td>\n",
       "      <td>21</td>\n",
       "      <td>16</td>\n",
       "      <td>0</td>\n",
       "      <td>45.000000</td>\n",
       "      <td>0</td>\n",
       "    </tr>\n",
       "    <tr>\n",
       "      <td>1</td>\n",
       "      <td>k403</td>\n",
       "      <td>Ramicane</td>\n",
       "      <td>Male</td>\n",
       "      <td>21</td>\n",
       "      <td>16</td>\n",
       "      <td>5</td>\n",
       "      <td>38.825898</td>\n",
       "      <td>0</td>\n",
       "    </tr>\n",
       "    <tr>\n",
       "      <td>2</td>\n",
       "      <td>k403</td>\n",
       "      <td>Ramicane</td>\n",
       "      <td>Male</td>\n",
       "      <td>21</td>\n",
       "      <td>16</td>\n",
       "      <td>10</td>\n",
       "      <td>35.014271</td>\n",
       "      <td>1</td>\n",
       "    </tr>\n",
       "    <tr>\n",
       "      <td>3</td>\n",
       "      <td>k403</td>\n",
       "      <td>Ramicane</td>\n",
       "      <td>Male</td>\n",
       "      <td>21</td>\n",
       "      <td>16</td>\n",
       "      <td>15</td>\n",
       "      <td>34.223992</td>\n",
       "      <td>1</td>\n",
       "    </tr>\n",
       "    <tr>\n",
       "      <td>4</td>\n",
       "      <td>k403</td>\n",
       "      <td>Ramicane</td>\n",
       "      <td>Male</td>\n",
       "      <td>21</td>\n",
       "      <td>16</td>\n",
       "      <td>20</td>\n",
       "      <td>32.997729</td>\n",
       "      <td>1</td>\n",
       "    </tr>\n",
       "    <tr>\n",
       "      <td>...</td>\n",
       "      <td>...</td>\n",
       "      <td>...</td>\n",
       "      <td>...</td>\n",
       "      <td>...</td>\n",
       "      <td>...</td>\n",
       "      <td>...</td>\n",
       "      <td>...</td>\n",
       "      <td>...</td>\n",
       "    </tr>\n",
       "    <tr>\n",
       "      <td>1888</td>\n",
       "      <td>z969</td>\n",
       "      <td>Naftisol</td>\n",
       "      <td>Male</td>\n",
       "      <td>9</td>\n",
       "      <td>30</td>\n",
       "      <td>25</td>\n",
       "      <td>63.145652</td>\n",
       "      <td>2</td>\n",
       "    </tr>\n",
       "    <tr>\n",
       "      <td>1889</td>\n",
       "      <td>z969</td>\n",
       "      <td>Naftisol</td>\n",
       "      <td>Male</td>\n",
       "      <td>9</td>\n",
       "      <td>30</td>\n",
       "      <td>30</td>\n",
       "      <td>65.841013</td>\n",
       "      <td>3</td>\n",
       "    </tr>\n",
       "    <tr>\n",
       "      <td>1890</td>\n",
       "      <td>z969</td>\n",
       "      <td>Naftisol</td>\n",
       "      <td>Male</td>\n",
       "      <td>9</td>\n",
       "      <td>30</td>\n",
       "      <td>35</td>\n",
       "      <td>69.176246</td>\n",
       "      <td>4</td>\n",
       "    </tr>\n",
       "    <tr>\n",
       "      <td>1891</td>\n",
       "      <td>z969</td>\n",
       "      <td>Naftisol</td>\n",
       "      <td>Male</td>\n",
       "      <td>9</td>\n",
       "      <td>30</td>\n",
       "      <td>40</td>\n",
       "      <td>70.314904</td>\n",
       "      <td>4</td>\n",
       "    </tr>\n",
       "    <tr>\n",
       "      <td>1892</td>\n",
       "      <td>z969</td>\n",
       "      <td>Naftisol</td>\n",
       "      <td>Male</td>\n",
       "      <td>9</td>\n",
       "      <td>30</td>\n",
       "      <td>45</td>\n",
       "      <td>73.867845</td>\n",
       "      <td>4</td>\n",
       "    </tr>\n",
       "  </tbody>\n",
       "</table>\n",
       "<p>1893 rows × 8 columns</p>\n",
       "</div>"
      ],
      "text/plain": [
       "     Mouse ID Drug Regimen   Sex  Age_months  Weight (g)  Timepoint  \\\n",
       "0        k403     Ramicane  Male          21          16          0   \n",
       "1        k403     Ramicane  Male          21          16          5   \n",
       "2        k403     Ramicane  Male          21          16         10   \n",
       "3        k403     Ramicane  Male          21          16         15   \n",
       "4        k403     Ramicane  Male          21          16         20   \n",
       "...       ...          ...   ...         ...         ...        ...   \n",
       "1888     z969     Naftisol  Male           9          30         25   \n",
       "1889     z969     Naftisol  Male           9          30         30   \n",
       "1890     z969     Naftisol  Male           9          30         35   \n",
       "1891     z969     Naftisol  Male           9          30         40   \n",
       "1892     z969     Naftisol  Male           9          30         45   \n",
       "\n",
       "      Tumor Volume (mm3)  Metastatic Sites  \n",
       "0              45.000000                 0  \n",
       "1              38.825898                 0  \n",
       "2              35.014271                 1  \n",
       "3              34.223992                 1  \n",
       "4              32.997729                 1  \n",
       "...                  ...               ...  \n",
       "1888           63.145652                 2  \n",
       "1889           65.841013                 3  \n",
       "1890           69.176246                 4  \n",
       "1891           70.314904                 4  \n",
       "1892           73.867845                 4  \n",
       "\n",
       "[1893 rows x 8 columns]"
      ]
     },
     "execution_count": 274,
     "metadata": {},
     "output_type": "execute_result"
    }
   ],
   "source": [
    "# Dependencies and Setup\n",
    "import matplotlib.pyplot as plt\n",
    "import pandas as pd\n",
    "import scipy.stats as st\n",
    "import numpy as np\n",
    "from sklearn import datasets\n",
    "\n",
    "# Study data files\n",
    "mouse_metadata_path = \"data/Mouse_metadata.csv\"\n",
    "study_results_path = \"data/Study_results.csv\"\n",
    "\n",
    "# Read the mouse data and the study results\n",
    "mouse_metadata = pd.read_csv(mouse_metadata_path)\n",
    "study_results = pd.read_csv(study_results_path)\n",
    "\n",
    "# Combine the data into a single dataset\n",
    "merge_df = pd.merge(mouse_metadata, study_results, on=\"Mouse ID\", how=\"outer\")\n",
    "merge_df  #.columns"
   ]
  },
  {
   "cell_type": "code",
   "execution_count": 275,
   "metadata": {},
   "outputs": [
    {
     "name": "stdout",
     "output_type": "stream",
     "text": [
      "249\n"
     ]
    }
   ],
   "source": [
    "# Checking the number of mice in the DataFrame.\n",
    "# Group by Mouse ID to give us the number of unique Mouse ID's in the DataFrame\n",
    "unique_grp = merge_df.groupby(\"Mouse ID\")\n",
    "print(len(unique_grp.count()))"
   ]
  },
  {
   "cell_type": "code",
   "execution_count": 276,
   "metadata": {},
   "outputs": [
    {
     "data": {
      "text/plain": [
       "908    g989\n",
       "909    g989\n",
       "910    g989\n",
       "911    g989\n",
       "912    g989\n",
       "913    g989\n",
       "914    g989\n",
       "915    g989\n",
       "916    g989\n",
       "917    g989\n",
       "Name: Mouse ID, dtype: object"
      ]
     },
     "execution_count": 276,
     "metadata": {},
     "output_type": "execute_result"
    }
   ],
   "source": [
    "# Getting the duplicate mice by ID number that shows up for Mouse ID and Timepoint. \n",
    "\n",
    "# Create dupes_df, which holds the duplicate Mouse ID \n",
    "# (and corresponding index) from the master set of data\n",
    "dupes_df = merge_df[merge_df.duplicated([\"Mouse ID\",\"Timepoint\"], keep=False)]\n",
    "dupes_df[\"Mouse ID\"]"
   ]
  },
  {
   "cell_type": "code",
   "execution_count": 277,
   "metadata": {},
   "outputs": [
    {
     "data": {
      "text/html": [
       "<div>\n",
       "<style scoped>\n",
       "    .dataframe tbody tr th:only-of-type {\n",
       "        vertical-align: middle;\n",
       "    }\n",
       "\n",
       "    .dataframe tbody tr th {\n",
       "        vertical-align: top;\n",
       "    }\n",
       "\n",
       "    .dataframe thead th {\n",
       "        text-align: right;\n",
       "    }\n",
       "</style>\n",
       "<table border=\"1\" class=\"dataframe\">\n",
       "  <thead>\n",
       "    <tr style=\"text-align: right;\">\n",
       "      <th></th>\n",
       "      <th>Mouse ID</th>\n",
       "      <th>Drug Regimen</th>\n",
       "      <th>Sex</th>\n",
       "      <th>Age_months</th>\n",
       "      <th>Weight (g)</th>\n",
       "      <th>Timepoint</th>\n",
       "      <th>Tumor Volume (mm3)</th>\n",
       "      <th>Metastatic Sites</th>\n",
       "    </tr>\n",
       "  </thead>\n",
       "  <tbody>\n",
       "    <tr>\n",
       "      <td>908</td>\n",
       "      <td>g989</td>\n",
       "      <td>Propriva</td>\n",
       "      <td>Female</td>\n",
       "      <td>21</td>\n",
       "      <td>26</td>\n",
       "      <td>0</td>\n",
       "      <td>45.000000</td>\n",
       "      <td>0</td>\n",
       "    </tr>\n",
       "    <tr>\n",
       "      <td>909</td>\n",
       "      <td>g989</td>\n",
       "      <td>Propriva</td>\n",
       "      <td>Female</td>\n",
       "      <td>21</td>\n",
       "      <td>26</td>\n",
       "      <td>0</td>\n",
       "      <td>45.000000</td>\n",
       "      <td>0</td>\n",
       "    </tr>\n",
       "    <tr>\n",
       "      <td>910</td>\n",
       "      <td>g989</td>\n",
       "      <td>Propriva</td>\n",
       "      <td>Female</td>\n",
       "      <td>21</td>\n",
       "      <td>26</td>\n",
       "      <td>5</td>\n",
       "      <td>48.786801</td>\n",
       "      <td>0</td>\n",
       "    </tr>\n",
       "    <tr>\n",
       "      <td>911</td>\n",
       "      <td>g989</td>\n",
       "      <td>Propriva</td>\n",
       "      <td>Female</td>\n",
       "      <td>21</td>\n",
       "      <td>26</td>\n",
       "      <td>5</td>\n",
       "      <td>47.570392</td>\n",
       "      <td>0</td>\n",
       "    </tr>\n",
       "    <tr>\n",
       "      <td>912</td>\n",
       "      <td>g989</td>\n",
       "      <td>Propriva</td>\n",
       "      <td>Female</td>\n",
       "      <td>21</td>\n",
       "      <td>26</td>\n",
       "      <td>10</td>\n",
       "      <td>51.745156</td>\n",
       "      <td>0</td>\n",
       "    </tr>\n",
       "    <tr>\n",
       "      <td>913</td>\n",
       "      <td>g989</td>\n",
       "      <td>Propriva</td>\n",
       "      <td>Female</td>\n",
       "      <td>21</td>\n",
       "      <td>26</td>\n",
       "      <td>10</td>\n",
       "      <td>49.880528</td>\n",
       "      <td>0</td>\n",
       "    </tr>\n",
       "    <tr>\n",
       "      <td>914</td>\n",
       "      <td>g989</td>\n",
       "      <td>Propriva</td>\n",
       "      <td>Female</td>\n",
       "      <td>21</td>\n",
       "      <td>26</td>\n",
       "      <td>15</td>\n",
       "      <td>51.325852</td>\n",
       "      <td>1</td>\n",
       "    </tr>\n",
       "    <tr>\n",
       "      <td>915</td>\n",
       "      <td>g989</td>\n",
       "      <td>Propriva</td>\n",
       "      <td>Female</td>\n",
       "      <td>21</td>\n",
       "      <td>26</td>\n",
       "      <td>15</td>\n",
       "      <td>53.442020</td>\n",
       "      <td>0</td>\n",
       "    </tr>\n",
       "    <tr>\n",
       "      <td>916</td>\n",
       "      <td>g989</td>\n",
       "      <td>Propriva</td>\n",
       "      <td>Female</td>\n",
       "      <td>21</td>\n",
       "      <td>26</td>\n",
       "      <td>20</td>\n",
       "      <td>55.326122</td>\n",
       "      <td>1</td>\n",
       "    </tr>\n",
       "    <tr>\n",
       "      <td>917</td>\n",
       "      <td>g989</td>\n",
       "      <td>Propriva</td>\n",
       "      <td>Female</td>\n",
       "      <td>21</td>\n",
       "      <td>26</td>\n",
       "      <td>20</td>\n",
       "      <td>54.657650</td>\n",
       "      <td>1</td>\n",
       "    </tr>\n",
       "  </tbody>\n",
       "</table>\n",
       "</div>"
      ],
      "text/plain": [
       "    Mouse ID Drug Regimen     Sex  Age_months  Weight (g)  Timepoint  \\\n",
       "908     g989     Propriva  Female          21          26          0   \n",
       "909     g989     Propriva  Female          21          26          0   \n",
       "910     g989     Propriva  Female          21          26          5   \n",
       "911     g989     Propriva  Female          21          26          5   \n",
       "912     g989     Propriva  Female          21          26         10   \n",
       "913     g989     Propriva  Female          21          26         10   \n",
       "914     g989     Propriva  Female          21          26         15   \n",
       "915     g989     Propriva  Female          21          26         15   \n",
       "916     g989     Propriva  Female          21          26         20   \n",
       "917     g989     Propriva  Female          21          26         20   \n",
       "\n",
       "     Tumor Volume (mm3)  Metastatic Sites  \n",
       "908           45.000000                 0  \n",
       "909           45.000000                 0  \n",
       "910           48.786801                 0  \n",
       "911           47.570392                 0  \n",
       "912           51.745156                 0  \n",
       "913           49.880528                 0  \n",
       "914           51.325852                 1  \n",
       "915           53.442020                 0  \n",
       "916           55.326122                 1  \n",
       "917           54.657650                 1  "
      ]
     },
     "execution_count": 277,
     "metadata": {},
     "output_type": "execute_result"
    }
   ],
   "source": [
    "# Optional: Get all the data for the duplicate mouse ID. \n",
    "dupes_df.loc[908:917, :]"
   ]
  },
  {
   "cell_type": "code",
   "execution_count": 278,
   "metadata": {},
   "outputs": [],
   "source": [
    "# Create a clean DataFrame by dropping the duplicate mouse by its ID.\n",
    "\n",
    "# Dropping g989 from data, based on \"dropping the duplicate mouse by its id\"\n",
    "clean_df = merge_df[merge_df[\"Mouse ID\"] != \"g989\"]"
   ]
  },
  {
   "cell_type": "code",
   "execution_count": 279,
   "metadata": {},
   "outputs": [
    {
     "name": "stdout",
     "output_type": "stream",
     "text": [
      "1880\n",
      "1893\n"
     ]
    }
   ],
   "source": [
    "# Checking the number of mice in the clean DataFrame.\n",
    "# The difference of 13 rows represents all rows for Mouse g989 (both duplicate and non duplicate rows)\n",
    "print(len(clean_df))\n",
    "print(len(merge_df))"
   ]
  },
  {
   "cell_type": "markdown",
   "metadata": {},
   "source": [
    "## Summary Statistics"
   ]
  },
  {
   "cell_type": "code",
   "execution_count": 280,
   "metadata": {},
   "outputs": [],
   "source": [
    "# Generate a summary statistics table of mean, median, variance, standard deviation, \n",
    "# and SEM of the tumor volume for each regimen\n",
    "\n",
    "# create a list of unique regimen values\n",
    "regimen_df = clean_df.sort_values(\"Drug Regimen\")\n",
    "regimen_list = regimen_df[\"Drug Regimen\"]\n",
    "regimen_list = regimen_list.drop_duplicates()\n",
    "#print(regimen_list)\n",
    "\n",
    "# Create a dataframe with only the drug regimen and tumor volume for processing\n",
    "regimen_df = pd.DataFrame({\"Drug Regimen\": clean_df[\"Drug Regimen\"],\n",
    "              \"Tumor Volume (mm3)\": clean_df[\"Tumor Volume (mm3)\"]})\n",
    "\n",
    "# Find mean tumor volume for each regimen\n",
    "regimen_mean_df = regimen_df.sort_values(\"Drug Regimen\")\n",
    "regimen_mean_df = regimen_df.groupby('Drug Regimen').mean()\n",
    "regimen_mean_list = regimen_mean_df[\"Tumor Volume (mm3)\"]\n",
    "#print(regimen_mean_list)\n",
    "\n",
    "# Find median tumor volume for each regimen\n",
    "regimen_med_df = regimen_df.sort_values(\"Drug Regimen\")\n",
    "regimen_med_df = regimen_df.groupby('Drug Regimen').median()\n",
    "regimen_med_list = regimen_med_df[\"Tumor Volume (mm3)\"]\n",
    "#print(regimen_med_list)\n",
    "\n",
    "# Find variance tumor volume for each regimen\n",
    "regimen_var_df = regimen_df.sort_values(\"Drug Regimen\")\n",
    "regimen_var_df = regimen_df.groupby('Drug Regimen').var()\n",
    "regimen_var_list = regimen_var_df[\"Tumor Volume (mm3)\"]\n",
    "#print(regimen_var_list)\n",
    "\n",
    "# Find Standrad Deviation tumor volume for each regimen\n",
    "regimen_std_df = regimen_df.sort_values(\"Drug Regimen\")\n",
    "regimen_std_df = regimen_df.groupby('Drug Regimen').std()\n",
    "regimen_std_list = regimen_std_df[\"Tumor Volume (mm3)\"]\n",
    "#print(regimen_std_list)\n",
    "\n",
    "# Find SEM tumor volume for each regimen\n",
    "regimen_sem_df = regimen_df.sort_values(\"Drug Regimen\")\n",
    "regimen_sem_df = regimen_df.groupby('Drug Regimen').sem()\n",
    "regimen_sem_list = regimen_sem_df[\"Tumor Volume (mm3)\"]\n",
    "#print(regimen_sem_list)\n"
   ]
  },
  {
   "cell_type": "code",
   "execution_count": 252,
   "metadata": {
    "scrolled": true
   },
   "outputs": [
    {
     "data": {
      "text/html": [
       "<div>\n",
       "<style scoped>\n",
       "    .dataframe tbody tr th:only-of-type {\n",
       "        vertical-align: middle;\n",
       "    }\n",
       "\n",
       "    .dataframe tbody tr th {\n",
       "        vertical-align: top;\n",
       "    }\n",
       "\n",
       "    .dataframe thead th {\n",
       "        text-align: right;\n",
       "    }\n",
       "</style>\n",
       "<table border=\"1\" class=\"dataframe\">\n",
       "  <thead>\n",
       "    <tr style=\"text-align: right;\">\n",
       "      <th></th>\n",
       "      <th>Drug Regimen</th>\n",
       "      <th>Mean Tumor Vol (mm3)</th>\n",
       "      <th>Median Tumor Vol (mm3)</th>\n",
       "      <th>Variance Tumor Vol (mm3)</th>\n",
       "      <th>STD Tumor Vol (mm3)</th>\n",
       "      <th>SEM Tumor Vol (mm3)</th>\n",
       "    </tr>\n",
       "  </thead>\n",
       "  <tbody>\n",
       "    <tr>\n",
       "      <td>0</td>\n",
       "      <td>Capomulin</td>\n",
       "      <td>40.675741</td>\n",
       "      <td>41.557809</td>\n",
       "      <td>24.947764</td>\n",
       "      <td>4.994774</td>\n",
       "      <td>0.329346</td>\n",
       "    </tr>\n",
       "    <tr>\n",
       "      <td>1</td>\n",
       "      <td>Ceftamin</td>\n",
       "      <td>52.591172</td>\n",
       "      <td>51.776157</td>\n",
       "      <td>39.290177</td>\n",
       "      <td>6.268188</td>\n",
       "      <td>0.469821</td>\n",
       "    </tr>\n",
       "    <tr>\n",
       "      <td>2</td>\n",
       "      <td>Infubinol</td>\n",
       "      <td>52.884795</td>\n",
       "      <td>51.820584</td>\n",
       "      <td>43.128684</td>\n",
       "      <td>6.567243</td>\n",
       "      <td>0.492236</td>\n",
       "    </tr>\n",
       "    <tr>\n",
       "      <td>3</td>\n",
       "      <td>Ketapril</td>\n",
       "      <td>55.235638</td>\n",
       "      <td>53.698743</td>\n",
       "      <td>68.553577</td>\n",
       "      <td>8.279709</td>\n",
       "      <td>0.603860</td>\n",
       "    </tr>\n",
       "    <tr>\n",
       "      <td>4</td>\n",
       "      <td>Naftisol</td>\n",
       "      <td>54.331565</td>\n",
       "      <td>52.509285</td>\n",
       "      <td>66.173479</td>\n",
       "      <td>8.134708</td>\n",
       "      <td>0.596466</td>\n",
       "    </tr>\n",
       "    <tr>\n",
       "      <td>5</td>\n",
       "      <td>Placebo</td>\n",
       "      <td>54.033581</td>\n",
       "      <td>52.288934</td>\n",
       "      <td>61.168083</td>\n",
       "      <td>7.821003</td>\n",
       "      <td>0.581331</td>\n",
       "    </tr>\n",
       "    <tr>\n",
       "      <td>6</td>\n",
       "      <td>Propriva</td>\n",
       "      <td>52.320930</td>\n",
       "      <td>50.446266</td>\n",
       "      <td>43.852013</td>\n",
       "      <td>6.622085</td>\n",
       "      <td>0.544332</td>\n",
       "    </tr>\n",
       "    <tr>\n",
       "      <td>7</td>\n",
       "      <td>Ramicane</td>\n",
       "      <td>40.216745</td>\n",
       "      <td>40.673236</td>\n",
       "      <td>23.486704</td>\n",
       "      <td>4.846308</td>\n",
       "      <td>0.320955</td>\n",
       "    </tr>\n",
       "    <tr>\n",
       "      <td>8</td>\n",
       "      <td>Stelasyn</td>\n",
       "      <td>54.233149</td>\n",
       "      <td>52.431737</td>\n",
       "      <td>59.450562</td>\n",
       "      <td>7.710419</td>\n",
       "      <td>0.573111</td>\n",
       "    </tr>\n",
       "    <tr>\n",
       "      <td>9</td>\n",
       "      <td>Zoniferol</td>\n",
       "      <td>53.236507</td>\n",
       "      <td>51.818479</td>\n",
       "      <td>48.533355</td>\n",
       "      <td>6.966589</td>\n",
       "      <td>0.516398</td>\n",
       "    </tr>\n",
       "  </tbody>\n",
       "</table>\n",
       "</div>"
      ],
      "text/plain": [
       "  Drug Regimen  Mean Tumor Vol (mm3)  Median Tumor Vol (mm3)  \\\n",
       "0    Capomulin             40.675741               41.557809   \n",
       "1     Ceftamin             52.591172               51.776157   \n",
       "2    Infubinol             52.884795               51.820584   \n",
       "3     Ketapril             55.235638               53.698743   \n",
       "4     Naftisol             54.331565               52.509285   \n",
       "5      Placebo             54.033581               52.288934   \n",
       "6     Propriva             52.320930               50.446266   \n",
       "7     Ramicane             40.216745               40.673236   \n",
       "8     Stelasyn             54.233149               52.431737   \n",
       "9    Zoniferol             53.236507               51.818479   \n",
       "\n",
       "   Variance Tumor Vol (mm3)  STD Tumor Vol (mm3)  SEM Tumor Vol (mm3)  \n",
       "0                 24.947764             4.994774             0.329346  \n",
       "1                 39.290177             6.268188             0.469821  \n",
       "2                 43.128684             6.567243             0.492236  \n",
       "3                 68.553577             8.279709             0.603860  \n",
       "4                 66.173479             8.134708             0.596466  \n",
       "5                 61.168083             7.821003             0.581331  \n",
       "6                 43.852013             6.622085             0.544332  \n",
       "7                 23.486704             4.846308             0.320955  \n",
       "8                 59.450562             7.710419             0.573111  \n",
       "9                 48.533355             6.966589             0.516398  "
      ]
     },
     "execution_count": 252,
     "metadata": {},
     "output_type": "execute_result"
    }
   ],
   "source": [
    "# Generate a summary statistics table of mean, median, variance, standard deviation, \n",
    "# and SEM of the tumor volume for each regimen\n",
    "zippedlist = list(zip(regimen_list, \n",
    "                      regimen_mean_list, \n",
    "                      regimen_med_list, \n",
    "                      regimen_var_list, \n",
    "                      regimen_std_list, \n",
    "                      regimen_sem_list))\n",
    "aggregate_df = pd.DataFrame(zippedlist, columns=[\"Drug Regimen\",\n",
    "                                                 \"Mean Tumor Vol (mm3)\",\n",
    "                                                 \"Median Tumor Vol (mm3)\",\n",
    "                                                 \"Variance Tumor Vol (mm3)\",\n",
    "                                                 \"STD Tumor Vol (mm3)\",\n",
    "                                                 \"SEM Tumor Vol (mm3)\"])\n",
    "aggregate_df"
   ]
  },
  {
   "cell_type": "markdown",
   "metadata": {},
   "source": [
    "## Bar Plots"
   ]
  },
  {
   "cell_type": "code",
   "execution_count": 281,
   "metadata": {
    "scrolled": true
   },
   "outputs": [
    {
     "data": {
      "text/plain": [
       "Text(0, 0.5, 'Number of Mice per Drug Regimen')"
      ]
     },
     "execution_count": 281,
     "metadata": {},
     "output_type": "execute_result"
    },
    {
     "data": {
      "image/png": "[encoded data removed]",
      "text/plain": [
       "<Figure size 432x288 with 1 Axes>"
      ]
     },
     "metadata": {
      "needs_background": "light"
     },
     "output_type": "display_data"
    }
   ],
   "source": [
    "# Generate a bar plot showing the number of mice per time point for each treatment \n",
    "# throughout the course of the study using pandas. \n",
    "\n",
    "#### Total # of datapoints for each treatment on y-axis\n",
    "regimen_df = pd.DataFrame({\"Drug Regimen\": clean_df[\"Drug Regimen\"],\n",
    "                             \"Mouse ID\": clean_df[\"Mouse ID\"]})\n",
    "\n",
    "# Generate a count of mice per treatment (unique Mouse ID's)\n",
    "regimen_count = regimen_df[\"Drug Regimen\"].value_counts()\n",
    "reg_count = regimen_count.reset_index().values.tolist()\n",
    "regimen_count_df = pd.DataFrame(reg_count,\n",
    "                               index=[0,1,2,3,4,5,6,7,8,9],\n",
    "                               columns=[\"Drug Regimen\",\"Count\"])\n",
    "#regimen_count_df\n",
    "\n",
    "# Now create the bar graph.  \n",
    "# x-axis:  Drug Regimen\n",
    "# y-axis:  Count of mice per regimen (regimen_count)\n",
    "x_axis = regimen_count_df[\"Drug Regimen\"]\n",
    "y_axis = regimen_count_df[\"Count\"]\n",
    "plt.bar(x_axis, y_axis, color='b', alpha=0.75, align=\"center\")\n",
    "plt.xlim(-0.75, len(x_axis)-0.25)\n",
    "plt.ylim(100, max(y_axis)+50)\n",
    "plt.xticks(rotation=45)\n",
    "plt.xlabel(\"Drug Regimen\")\n",
    "plt.ylabel(\"Number of Mice per Drug Regimen\")\n"
   ]
  },
  {
   "cell_type": "code",
   "execution_count": 45,
   "metadata": {},
   "outputs": [
    {
     "data": {
      "text/plain": [
       "Text(0, 0.5, 'Number of Mice per Timepoint')"
      ]
     },
     "execution_count": 45,
     "metadata": {},
     "output_type": "execute_result"
    },
    {
     "data": {
      "image/png": "[encoded data removed]",
      "text/plain": [
       "<Figure size 432x288 with 1 Axes>"
      ]
     },
     "metadata": {
      "needs_background": "light"
     },
     "output_type": "display_data"
    }
   ],
   "source": [
    "# Generate a bar plot showing the number of mice per time point for each treatment \n",
    "#throughout the course of the study using pyplot.\n",
    "\n",
    "#Generate a list of timepoints with number of mice\n",
    "timepoint_df = pd.DataFrame({\"Timepoint\": clean_df[\"Timepoint\"],\n",
    "                             \"Mouse ID\": clean_df[\"Mouse ID\"]})\n",
    "#timepoint_df\n",
    "\n",
    "# Generate a count of mice per timepoint (unique Mouse ID's)\n",
    "timepoint_count = timepoint_df[\"Timepoint\"].value_counts()\n",
    "tp_count = timepoint_count.reset_index().values.tolist()\n",
    "timepoint_count_df = pd.DataFrame(tp_count,\n",
    "                               index=[0,1,2,3,4,5,6,7,8,9],\n",
    "                               columns=[\"Timepoint\",\"Count\"])\n",
    "\n",
    "\n",
    "\n",
    "# Now create the bar graph.  \n",
    "# x_axis:  Timepoint\n",
    "# y_axis:  Number of mice\n",
    "x_axis = timepoint_count_df[\"Timepoint\"]\n",
    "y_axis = timepoint_count_df[\"Count\"]\n",
    "\n",
    "#tick_locations = [value for value in x_axis]\n",
    "plt.xticks(tick_locations, [0,5,10,15,20,25,30,35,40,45])\n",
    "\n",
    "plt.bar(x_axis, y_axis, color='b', alpha=0.75, align=\"center\", width=1)\n",
    "plt.xlim(-1.5)\n",
    "\n",
    "plt.ylim(100, max(y_axis)+50)\n",
    "\n",
    "plt.xlabel(\"Timepoint\")\n",
    "plt.ylabel(\"Number of Mice per Timepoint\")"
   ]
  },
  {
   "cell_type": "markdown",
   "metadata": {},
   "source": [
    "## Pie Plots"
   ]
  },
  {
   "cell_type": "code",
   "execution_count": 285,
   "metadata": {},
   "outputs": [
    {
     "data": {
      "image/png": "[encoded data removed]",
      "text/plain": [
       "<Figure size 432x288 with 1 Axes>"
      ]
     },
     "metadata": {},
     "output_type": "display_data"
    }
   ],
   "source": [
    "# Generate a pie plot showing the distribution of female versus male mice using pandas\n",
    "\n",
    "# Male list\n",
    "male_df = merge_df[merge_df[\"Sex\"] != \"Female\"]\n",
    "male_df = male_df[\"Mouse ID\"].drop_duplicates()\n",
    "male_size = len(male_df)\n",
    "\n",
    "# Female list\n",
    "female_df = merge_df[merge_df[\"Sex\"] != \"Male\"]\n",
    "female_df = female_df[\"Mouse ID\"].drop_duplicates()\n",
    "female_size = len(female_df)\n",
    "\n",
    "# Plot the graph\n",
    "df = pd.DataFrame({\"Sex\": [male_size, female_size]},\n",
    "                  index=['Male','Female'])\n",
    "plot = df.plot.pie(y='Sex', autopct=\"%2.1f%%\")\n",
    "plt.show()"
   ]
  },
  {
   "cell_type": "code",
   "execution_count": 286,
   "metadata": {},
   "outputs": [
    {
     "data": {
      "image/png": "[encoded data removed]",
      "text/plain": [
       "<Figure size 432x288 with 1 Axes>"
      ]
     },
     "metadata": {},
     "output_type": "display_data"
    }
   ],
   "source": [
    "# Generate a pie plot showing the distribution of female versus male mice using pyplot\n",
    "\n",
    "plt.pie(df[\"Sex\"], labels=[\"male\",\"female\"], autopct=\"%2.1f%%\")\n",
    "plt.show()"
   ]
  },
  {
   "cell_type": "markdown",
   "metadata": {},
   "source": [
    "## Quartiles, Outliers and Boxplots"
   ]
  },
  {
   "cell_type": "code",
   "execution_count": 287,
   "metadata": {},
   "outputs": [
    {
     "name": "stdout",
     "output_type": "stream",
     "text": [
      "Ramicane\n",
      "The lower quartile of tumor size is: 31.56046955\n",
      "The upper quartile of tumor size is: 40.65900627\n",
      "The interquartile range of tumor size is: 9.098536719999998\n",
      "The the median of tumor size is: 36.56165229 \n",
      "Values below 17.912664470000003 could be outliers.\n",
      "Values above 54.30681135 could be outliers.\n",
      "     \n",
      "Capomulin\n",
      "The lower quartile of tumor size is: 32.37735684\n",
      "The upper quartile of tumor size is: 40.1592203\n",
      "The interquartile range of tumor size is: 7.781863460000004\n",
      "The the median of tumor size is: 38.125164399999996 \n",
      "Values below 20.70456164999999 could be outliers.\n",
      "Values above 51.83201549 could be outliers.\n",
      "     \n",
      "Infubinol\n",
      "The lower quartile of tumor size is: 54.04860769\n",
      "The upper quartile of tumor size is: 65.52574285\n",
      "The interquartile range of tumor size is: 11.477135160000003\n",
      "The the median of tumor size is: 60.16518046 \n",
      "Values below 36.83290494999999 could be outliers.\n",
      "Values above 82.74144559000001 could be outliers.\n",
      "     \n",
      "Ceftamin\n",
      "The lower quartile of tumor size is: 48.72207785\n",
      "The upper quartile of tumor size is: 64.29983003\n",
      "The interquartile range of tumor size is: 15.577752179999997\n",
      "The the median of tumor size is: 59.85195552 \n",
      "Values below 25.355449580000002 could be outliers.\n",
      "Values above 87.66645829999999 could be outliers.\n",
      "     \n"
     ]
    }
   ],
   "source": [
    "# Calculate the final tumor volume of each mouse \n",
    "# across four of the most promising treatment regimens. \n",
    "# Calculate the IQR and quantitatively determine if there are any potential outliers. \n",
    "\n",
    "# DF for mouse, treatment, max(time), tumor size\n",
    "max_tumor_df = pd.DataFrame({\"Drug Regimen\": clean_df[\"Drug Regimen\"],\n",
    "                             \"Mouse ID\": clean_df[\"Mouse ID\"],\n",
    "                             \"Timepoint\": clean_df[\"Timepoint\"],\n",
    "                             \"Tumor Volume (mm3)\": clean_df[\"Tumor Volume (mm3)\"]})\n",
    "# Generate new dataframe with max values for all columns based on Mouse ID\n",
    "max_tumor_group_df = max_tumor_df.groupby(\"Mouse ID\").max()\n",
    "max_tumor_tp = max_tumor_group_df.reset_index().values.tolist()\n",
    "\n",
    "# New dataframe with Mouse ID, Drug Regimen, and Max Timepoint\n",
    "max_tumor_tp_df = pd.DataFrame(max_tumor_tp, columns=[\"Mouse ID\",\"Drug Regimen\",\"Timepoint\",\"Tumor Vol\"])\n",
    "del max_tumor_tp_df[\"Tumor Vol\"]\n",
    "\n",
    "# Now merge this with the original dataframe to get the tumor volume at the max timepoint\n",
    "# This gives us the final tumor volume for each mouse at it's last timepoint\n",
    "max_tumor_stats_df = pd.merge(max_tumor_tp_df, clean_df, on=[\"Mouse ID\",\"Timepoint\"], how=\"left\")\n",
    "tumor_final_summary_df = pd.DataFrame({\"Mouse ID\": max_tumor_stats_df[\"Mouse ID\"],\n",
    "                                      \"Drug Regimen\": max_tumor_stats_df[\"Drug Regimen_x\"],\n",
    "                                      \"Timepoint\": max_tumor_stats_df[\"Timepoint\"],\n",
    "                                      \"Tumor Volume (mm3)\": max_tumor_stats_df[\"Tumor Volume (mm3)\"]})\n",
    "#tumor_final_summary_df.head(50)\n",
    "\n",
    "# calculate four of the most promising treatment regimens.\n",
    "# find 4 drug treatments w/ smallest tumor volumes\n",
    "# find 4 smallest tumor volumes, these are most promising treatments\n",
    "tumor_final_summary_df.sort_values(\"Tumor Volume (mm3)\").head(60)\n",
    "#create df's for Ramicane, Capomulin, Infubinol, Ceftamin\n",
    "ramicane_df = tumor_final_summary_df[tumor_final_summary_df[\"Drug Regimen\"] == \"Ramicane\"]\n",
    "capomulin_df = tumor_final_summary_df[tumor_final_summary_df[\"Drug Regimen\"] == \"Capomulin\"]\n",
    "infubinol_df = tumor_final_summary_df[tumor_final_summary_df[\"Drug Regimen\"] == \"Infubinol\"]\n",
    "ceftamin_df = tumor_final_summary_df[tumor_final_summary_df[\"Drug Regimen\"] == \"Ceftamin\"]\n",
    "\n",
    "ramicane = ramicane_df[\"Tumor Volume (mm3)\"]\n",
    "quartiles = ramicane.quantile([.25, .5, .75])\n",
    "lowerq = quartiles[0.25]\n",
    "upperq = quartiles[0.75]\n",
    "iqr = upperq-lowerq\n",
    "lower_bound = lowerq - (1.5*iqr)\n",
    "upper_bound = upperq + (1.5*iqr)\n",
    "print(f\"Ramicane\")\n",
    "print(f\"The lower quartile of tumor size is: {lowerq}\")\n",
    "print(f\"The upper quartile of tumor size is: {upperq}\")\n",
    "print(f\"The interquartile range of tumor size is: {iqr}\")\n",
    "print(f\"The the median of tumor size is: {quartiles[0.5]} \")\n",
    "print(f\"Values below {lower_bound} could be outliers.\")\n",
    "print(f\"Values above {upper_bound} could be outliers.\")\n",
    "print(f\"     \")\n",
    "\n",
    "capomulin = capomulin_df[\"Tumor Volume (mm3)\"]\n",
    "quartiles = capomulin.quantile([.25, .5, .75])\n",
    "lowerq = quartiles[0.25]\n",
    "upperq = quartiles[0.75]\n",
    "iqr = upperq-lowerq\n",
    "lower_bound = lowerq - (1.5*iqr)\n",
    "upper_bound = upperq + (1.5*iqr)\n",
    "print(f\"Capomulin\")\n",
    "print(f\"The lower quartile of tumor size is: {lowerq}\")\n",
    "print(f\"The upper quartile of tumor size is: {upperq}\")\n",
    "print(f\"The interquartile range of tumor size is: {iqr}\")\n",
    "print(f\"The the median of tumor size is: {quartiles[0.5]} \")\n",
    "print(f\"Values below {lower_bound} could be outliers.\")\n",
    "print(f\"Values above {upper_bound} could be outliers.\")\n",
    "print(f\"     \")\n",
    "\n",
    "infubinol = infubinol_df[\"Tumor Volume (mm3)\"]\n",
    "quartiles = infubinol.quantile([.25, .5, .75])\n",
    "lowerq = quartiles[0.25]\n",
    "upperq = quartiles[0.75]\n",
    "iqr = upperq-lowerq\n",
    "lower_bound = lowerq - (1.5*iqr)\n",
    "upper_bound = upperq + (1.5*iqr)\n",
    "print(f\"Infubinol\")\n",
    "print(f\"The lower quartile of tumor size is: {lowerq}\")\n",
    "print(f\"The upper quartile of tumor size is: {upperq}\")\n",
    "print(f\"The interquartile range of tumor size is: {iqr}\")\n",
    "print(f\"The the median of tumor size is: {quartiles[0.5]} \")\n",
    "print(f\"Values below {lower_bound} could be outliers.\")\n",
    "print(f\"Values above {upper_bound} could be outliers.\")\n",
    "print(f\"     \")\n",
    "\n",
    "ceftamin = ceftamin_df[\"Tumor Volume (mm3)\"]\n",
    "quartiles = ceftamin.quantile([.25, .5, .75])\n",
    "lowerq = quartiles[0.25]\n",
    "upperq = quartiles[0.75]\n",
    "iqr = upperq-lowerq\n",
    "lower_bound = lowerq - (1.5*iqr)\n",
    "upper_bound = upperq + (1.5*iqr)\n",
    "print(f\"Ceftamin\")\n",
    "print(f\"The lower quartile of tumor size is: {lowerq}\")\n",
    "print(f\"The upper quartile of tumor size is: {upperq}\")\n",
    "print(f\"The interquartile range of tumor size is: {iqr}\")\n",
    "print(f\"The the median of tumor size is: {quartiles[0.5]} \")\n",
    "print(f\"Values below {lower_bound} could be outliers.\")\n",
    "print(f\"Values above {upper_bound} could be outliers.\")\n",
    "print(f\"     \")\n"
   ]
  },
  {
   "cell_type": "code",
   "execution_count": 204,
   "metadata": {},
   "outputs": [
    {
     "data": {
      "image/png": "[encoded data removed]",
      "text/plain": [
       "<Figure size 432x288 with 1 Axes>"
      ]
     },
     "metadata": {
      "needs_background": "light"
     },
     "output_type": "display_data"
    }
   ],
   "source": [
    "# Generate a box plot of the final tumor volume of each mouse across four regimens of interest\n",
    "drugs_to_plot = [ramicane, capomulin, infubinol, ceftamin]\n",
    "labels = ['Ramicane', 'Capomulin', 'Infubinol', 'Ceftamin']\n",
    "fig1, ax1 = plt.subplots()\n",
    "ax1.set_xlabel('Drug Regimen')\n",
    "ax1.set_ylabel('Final Tumor Volume (mm3)')\n",
    "ax1.boxplot(drugs_to_plot, labels=labels)\n",
    "\n",
    "plt.show()"
   ]
  },
  {
   "cell_type": "markdown",
   "metadata": {},
   "source": [
    "## Line and Scatter Plots"
   ]
  },
  {
   "cell_type": "code",
   "execution_count": 288,
   "metadata": {},
   "outputs": [
    {
     "data": {
      "image/png": "[encoded data removed]",
      "text/plain": [
       "<Figure size 432x288 with 1 Axes>"
      ]
     },
     "metadata": {
      "needs_background": "light"
     },
     "output_type": "display_data"
    }
   ],
   "source": [
    "# Generate a line plot of time point versus tumor volume for a mouse treated with Capomulin\n",
    "\n",
    "b128_df = merge_df[merge_df[\"Mouse ID\"] == \"b128\"]\n",
    "x_axis = b128_df[\"Timepoint\"]\n",
    "y_axis = b128_df[\"Tumor Volume (mm3)\"]\n",
    "plt.plot(x_axis, y_axis)\n",
    "plt.xlabel(\"Timepoint (days)\")\n",
    "plt.ylabel(\"Tumor Volume (mm3)\")\n",
    "plt.title(\"Capomulin Treatment of Mouse b128\");"
   ]
  },
  {
   "cell_type": "code",
   "execution_count": 289,
   "metadata": {},
   "outputs": [
    {
     "data": {
      "image/png": "[encoded data removed]",
      "text/plain": [
       "<Figure size 432x288 with 1 Axes>"
      ]
     },
     "metadata": {
      "needs_background": "light"
     },
     "output_type": "display_data"
    }
   ],
   "source": [
    "# Generate a scatter plot of mouse weight versus average tumor volume for the Capomulin regimen\n",
    "capomulin_df = merge_df[merge_df[\"Drug Regimen\"] == \"Capomulin\"]\n",
    "scatter_df = pd.DataFrame({\"Mouse ID\": capomulin_df[\"Mouse ID\"],\n",
    "                          \"Weight (g)\": capomulin_df[\"Weight (g)\"],\n",
    "                          \"Tumor Volume (mm3)\": capomulin_df[\"Tumor Volume (mm3)\"]})\n",
    "mouse_group = scatter_df.groupby([\"Mouse ID\"])\n",
    "mouse_group_avg = mouse_group.mean()\n",
    "\n",
    "x_axis = mouse_group_avg[\"Weight (g)\"]\n",
    "y_axis = mouse_group_avg[\"Tumor Volume (mm3)\"]\n",
    "x_limit = 30\n",
    "y_limit = 50\n",
    "\n",
    "plt.scatter(x_axis, y_axis, marker=\"o\", facecolors=\"blue\", edgecolors=\"black\", s=x_axis, alpha=0.75)\n",
    "plt.xlabel(\"Weight (g)\")\n",
    "plt.ylabel(\"Average Tumor Volume (mm3)\")\n",
    "\n",
    "plt.show()\n"
   ]
  },
  {
   "cell_type": "markdown",
   "metadata": {},
   "source": [
    "## Correlation and Regression"
   ]
  },
  {
   "cell_type": "code",
   "execution_count": 290,
   "metadata": {
    "scrolled": true
   },
   "outputs": [
    {
     "name": "stdout",
     "output_type": "stream",
     "text": [
      "The correlation between Weight and Tumor Volume is 0.84\n"
     ]
    },
    {
     "data": {
      "image/png": "[encoded data removed]",
      "text/plain": [
       "<Figure size 432x288 with 1 Axes>"
      ]
     },
     "metadata": {
      "needs_background": "light"
     },
     "output_type": "display_data"
    }
   ],
   "source": [
    "# Calculate the correlation coefficient and linear regression model \n",
    "# for mouse weight and average tumor volume for the Capomulin regimen\n",
    "\n",
    "weight = mouse_group_avg.iloc[:,0]\n",
    "tumor = mouse_group_avg.iloc[:,1]\n",
    "correlation = st.pearsonr(weight, tumor)\n",
    "print(f\"The correlation between Weight and Tumor Volume is {round(correlation[0],2)}\")\n",
    "\n",
    "# Add linear regression model\n",
    "x_values = mouse_group_avg['Weight (g)']\n",
    "y_values = mouse_group_avg['Tumor Volume (mm3)']\n",
    "(slope, intercept, rvalue, pvalue, stderr) = st.linregress(x_values, y_values)\n",
    "regress_values = x_values * slope + intercept\n",
    "line_eq = \"y = \" + str(round(slope,2)) + \"x + \" + str(round(intercept,2))\n",
    "plt.scatter(x_values,y_values)\n",
    "plt.plot(x_values,regress_values,\"r-\")\n",
    "plt.annotate(line_eq,(6,10),fontsize=15,color=\"red\")\n",
    "plt.xlabel('Weight (g)')\n",
    "plt.ylabel('Tumor Volume (mm3)')\n",
    "plt.show()"
   ]
  },
  {
   "cell_type": "code",
   "execution_count": null,
   "metadata": {},
   "outputs": [],
   "source": []
  }
 ],
 "metadata": {
  "anaconda-cloud": {},
  "kernelspec": {
   "display_name": "Python 3",
   "language": "python",
   "name": "python3"
  },
  "language_info": {
   "codemirror_mode": {
    "name": "ipython",
    "version": 3
   },
   "file_extension": ".py",
   "mimetype": "text/x-python",
   "name": "python",
   "nbconvert_exporter": "python",
   "pygments_lexer": "ipython3",
   "version": "3.7.4"
  }
 },
 "nbformat": 4,
 "nbformat_minor": 2
}
